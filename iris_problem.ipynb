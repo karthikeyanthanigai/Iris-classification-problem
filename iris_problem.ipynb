{
  "nbformat": 4,
  "nbformat_minor": 0,
  "metadata": {
    "colab": {
      "name": "iris_problem",
      "provenance": [],
      "collapsed_sections": [],
      "authorship_tag": "ABX9TyP2+xuTx91O23GfFREfgJHK",
      "include_colab_link": true
    },
    "kernelspec": {
      "name": "python3",
      "display_name": "Python 3"
    }
  },
  "cells": [
    {
      "cell_type": "markdown",
      "metadata": {
        "id": "view-in-github",
        "colab_type": "text"
      },
      "source": [
        "<a href=\"https://colab.research.google.com/github/karthikeyanthanigai/Iris-classification-problem/blob/master/iris_problem.ipynb\" target=\"_parent\"><img src=\"https://colab.research.google.com/assets/colab-badge.svg\" alt=\"Open In Colab\"/></a>"
      ]
    },
    {
      "cell_type": "code",
      "metadata": {
        "id": "M2e-5yfLwdiB",
        "colab_type": "code",
        "colab": {
          "base_uri": "https://localhost:8080/",
          "height": 119
        },
        "outputId": "e163bca0-fa35-4132-f82f-8a1610a9895b"
      },
      "source": [
        "\n",
        "#Import the Libraries\n",
        "import numpy as np\n",
        "import pandas as pd\n",
        "import matplotlib.pyplot as plt\n",
        "\n",
        "#Import the Dataset\n",
        "Dataset = pd.read_csv(\"iris_dataset.csv\")\n",
        "X = Dataset.iloc[:,:-1].values\n",
        "y = Dataset.iloc[:, -1].values\n",
        "\n",
        "\n",
        "#Splitting the data into train and test\n",
        "from sklearn.model_selection import train_test_split\n",
        "X_train, X_test, y_train, y_test = train_test_split(X, y, test_size = 0.2)\n",
        "\n",
        "#Logistic Regression model. \n",
        "from sklearn.linear_model import LogisticRegression\n",
        "classifier = LogisticRegression(max_iter=1000,random_state=0)\n",
        "classifier.fit(X_train, y_train)\n",
        "\n",
        "#predict our test set\n",
        "y_pred = classifier.predict(X_test)\n",
        "\n",
        "\n",
        "#evaluate our test set\n",
        "from sklearn.metrics import confusion_matrix, accuracy_score, f1_score\n",
        "\n",
        "acc_test = accuracy_score(y_test, y_pred)\n",
        "f1_test = f1_score(y_test, y_pred, average= 'weighted')\n",
        "\n",
        "print(\"Test set results\")\n",
        "print(\"ACCURACY for test set(logistic regression method)\",acc_test)\n",
        "print(\"F1 SCORE for test set(logistic regression method)\",f1_test)\n",
        "\n",
        "#Confusion Matrix \n",
        "cm = confusion_matrix(y_test,y_pred)\n",
        "print(cm)"
      ],
      "execution_count": 2,
      "outputs": [
        {
          "output_type": "stream",
          "text": [
            "Test set results\n",
            "ACCURACY for test set(logistic regression method) 0.9\n",
            "F1 SCORE for test set(logistic regression method) 0.9002506265664162\n",
            "[[10  0  0]\n",
            " [ 0  8  1]\n",
            " [ 0  2  9]]\n"
          ],
          "name": "stdout"
        }
      ]
    },
    {
      "cell_type": "code",
      "metadata": {
        "id": "_d2Cgj5owrgd",
        "colab_type": "code",
        "colab": {
          "base_uri": "https://localhost:8080/",
          "height": 119
        },
        "outputId": "eb22da05-07bc-41cc-9b52-300534f83429"
      },
      "source": [
        "\n",
        "#Import the Libraries\n",
        "import numpy as np\n",
        "import pandas as pd\n",
        "import matplotlib.pyplot as plt\n",
        "\n",
        "#Import the Dataset\n",
        "Dataset = pd.read_csv(\"iris_dataset.csv\")\n",
        "X = Dataset.iloc[:,:-1].values\n",
        "y = Dataset.iloc[:, -1].values\n",
        "\n",
        "\n",
        "#Splitting the data into train and test\n",
        "from sklearn.model_selection import train_test_split\n",
        "X_train, X_test, y_train, y_test = train_test_split(X, y, test_size = 0.2,random_state=32)\n",
        "\n",
        "\n",
        "#Random forest classifier\n",
        "from sklearn.ensemble import RandomForestClassifier\n",
        "classifier1 = RandomForestClassifier(n_estimators=10,random_state=0)\n",
        "classifier1.fit(X_train, y_train)\n",
        "\n",
        "#predict our test set\n",
        "y_pred1 = classifier1.predict(X_test)\n",
        "\n",
        "\n",
        "\n",
        "#evaluate our test set\n",
        "from sklearn.metrics import confusion_matrix, accuracy_score, f1_score\n",
        "\n",
        "acc_test1 = accuracy_score(y_test, y_pred1)\n",
        "f1_test1 = f1_score(y_test, y_pred1, average= 'weighted')\n",
        "\n",
        "print(\"Test set results\")\n",
        "print(\"ACCURACY for test set(Random forest method)\",acc_test1)\n",
        "print(\"F1 SCORE for test set(Random forest method)\",f1_test1)\n",
        "\n",
        "#Confusion Matrix for random forest method\n",
        "cm1 = confusion_matrix(y_test,y_pred1)\n",
        "print(cm1)\n",
        "\n"
      ],
      "execution_count": 3,
      "outputs": [
        {
          "output_type": "stream",
          "text": [
            "Test set results\n",
            "ACCURACY for test set(Random forest method) 0.9333333333333333\n",
            "F1 SCORE for test set(Random forest method) 0.9325\n",
            "[[12  0  0]\n",
            " [ 0  9  0]\n",
            " [ 0  2  7]]\n"
          ],
          "name": "stdout"
        }
      ]
    },
    {
      "cell_type": "code",
      "metadata": {
        "id": "z442bJM8wrQm",
        "colab_type": "code",
        "colab": {
          "base_uri": "https://localhost:8080/",
          "height": 119
        },
        "outputId": "d6bc7d6b-46af-48c1-ec0c-9d4eea127dfd"
      },
      "source": [
        "\n",
        "#Import the Libraries\n",
        "import numpy as np\n",
        "import pandas as pd\n",
        "import matplotlib.pyplot as plt\n",
        "\n",
        "#Import the Dataset\n",
        "Dataset = pd.read_csv(\"iris_dataset.csv\")\n",
        "X = Dataset.iloc[:,:-1].values\n",
        "y = Dataset.iloc[:, -1].values\n",
        "\n",
        "\n",
        "\n",
        "#Splitting the data into train and test\n",
        "from sklearn.model_selection import train_test_split\n",
        "X_train, X_test, y_train, y_test = train_test_split(X, y, test_size = 0.2,random_state=32)\n",
        "\n",
        "#Adaboost classifier\n",
        "from sklearn.ensemble import AdaBoostClassifier\n",
        "classifier2 = AdaBoostClassifier(n_estimators=10,random_state=0)\n",
        "classifier2.fit(X_train, y_train)\n",
        "\n",
        "#predict our test set\n",
        "y_pred2 = classifier2.predict(X_test)\n",
        "\n",
        "\n",
        "#evaluate our test set\n",
        "from sklearn.metrics import confusion_matrix, accuracy_score, f1_score\n",
        "\n",
        "acc_test2 = accuracy_score(y_test, y_pred2)\n",
        "f1_test2 = f1_score(y_test, y_pred2, average= 'weighted')\n",
        "\n",
        "print(\"Test set results\")\n",
        "print(\"ACCURACY for test set(Adaboost classifier method)\",acc_test2)\n",
        "print(\"F1 SCORE for test set(Adaboost classifier method)\",f1_test2)\n",
        "\n",
        "#Confusion Matrix for adaboost classifier\n",
        "cm = confusion_matrix(y_test,y_pred2)\n",
        "print(cm)"
      ],
      "execution_count": 4,
      "outputs": [
        {
          "output_type": "stream",
          "text": [
            "Test set results\n",
            "ACCURACY for test set(Adaboost classifier method) 0.9666666666666667\n",
            "F1 SCORE for test set(Adaboost classifier method) 0.9665634674922601\n",
            "[[12  0  0]\n",
            " [ 0  9  0]\n",
            " [ 0  1  8]]\n"
          ],
          "name": "stdout"
        }
      ]
    },
    {
      "cell_type": "code",
      "metadata": {
        "id": "_pSuoSf_0BJw",
        "colab_type": "code",
        "colab": {}
      },
      "source": [
        ""
      ],
      "execution_count": 0,
      "outputs": []
    }
  ]
}